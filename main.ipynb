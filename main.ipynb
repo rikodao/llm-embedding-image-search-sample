{
 "cells": [
  {
   "cell_type": "markdown",
   "id": "ab584eba",
   "metadata": {},
   "source": [
    "## 環境準備"
   ]
  },
  {
   "cell_type": "code",
   "execution_count": null,
   "id": "2aee43d1-66c4-46e5-9181-6db61c8021b9",
   "metadata": {},
   "outputs": [],
   "source": [
    "!pip install -q boto3 pandas opensearch-py requests_aws4auth"
   ]
  },
  {
   "cell_type": "code",
   "execution_count": null,
   "id": "5b489102",
   "metadata": {},
   "outputs": [],
   "source": [
    "import os.path\n",
    "currentDirectory = os.path.abspath('')\n",
    "print(currentDirectory)\n"
   ]
  },
  {
   "cell_type": "code",
   "execution_count": null,
   "id": "e230664e",
   "metadata": {},
   "outputs": [],
   "source": [
    "import boto3\n",
    "import json\n",
    "import base64\n",
    "import pandas as pd\n",
    "from opensearchpy import OpenSearch, RequestsHttpConnection, OpenSearchException\n",
    "from requests_aws4auth import AWS4Auth\n",
    "from IPython.display import Image, display\n",
    "import os"
   ]
  },
  {
   "cell_type": "markdown",
   "id": "d2791ef9",
   "metadata": {},
   "source": [
    "## Bedrock クライアントの初期化"
   ]
  },
  {
   "cell_type": "code",
   "execution_count": null,
   "id": "67de3115-62c9-41d5-8ea6-c27a1e232e05",
   "metadata": {},
   "outputs": [],
   "source": [
    "%env AWS_ACCESS_KEY_ID=\n",
    "%env AWS_SECRET_ACCESS_KEY=\n",
    "%env REGION=us-east-1"
   ]
  },
  {
   "cell_type": "code",
   "execution_count": null,
   "id": "c68cd6a6-9b55-408e-bd53-177c7a79fc84",
   "metadata": {},
   "outputs": [],
   "source": [
    "def getHost():\n",
    "    \"\"\"Waits for the collection to become active\"\"\"\n",
    "    response = boto3.client(\n",
    "        service_name='opensearchserverless',\n",
    "        region_name=os.environ.get(\"REGION\"),\n",
    "        aws_access_key_id=AWS_ACCESS_KEY_ID,\n",
    "        aws_secret_access_key=AWS_SECRET_ACCESS_KEY\n",
    "        ).batch_get_collection(\n",
    "        names=['test-collection'])\n",
    "    final_host = (response['collectionDetails'][0]['collectionEndpoint'])\n",
    "    print(\"Host:\"+ final_host)\n",
    "    return final_host\n"
   ]
  },
  {
   "cell_type": "code",
   "execution_count": null,
   "id": "6d88ddbb",
   "metadata": {},
   "outputs": [],
   "source": [
    "AWS_ACCESS_KEY_ID=os.environ.get(\"AWS_ACCESS_KEY_ID\")\n",
    "AWS_SECRET_ACCESS_KEY=os.environ.get(\"AWS_SECRET_ACCESS_KEY\")\n",
    "OPENSEAECH_HOST=getHost()\n",
    "REGION=os.environ.get(\"REGION\")\n",
    "\n",
    "# Bedrock\n",
    "bedrock_runtime = boto3.client(\n",
    "        service_name=\"bedrock-runtime\",\n",
    "        region_name=REGION,\n",
    "        aws_access_key_id=AWS_ACCESS_KEY_ID,\n",
    "        aws_secret_access_key=AWS_SECRET_ACCESS_KEY\n",
    "    )\n"
   ]
  },
  {
   "cell_type": "markdown",
   "id": "1c873b67",
   "metadata": {},
   "source": [
    "## OpenSearch クライアントの初期化（Amazon OpenSearch Service版）"
   ]
  },
  {
   "cell_type": "code",
   "execution_count": null,
   "id": "776273a3",
   "metadata": {},
   "outputs": [],
   "source": [
    "\n",
    "\n",
    "# Amazon OpenSearch Service\n",
    "service = \"aoss\"  # must set the service as 'aoss'\n",
    "region = \"us-east-1\"\n",
    "dimensions = 1024\n",
    "index_name = \"test-index\"\n",
    "\n",
    "awsauth = AWS4Auth(\n",
    "    AWS_ACCESS_KEY_ID,\n",
    "    AWS_SECRET_ACCESS_KEY,\n",
    "    region,\n",
    "    service\n",
    ")\n",
    "\n",
    "# OpenSearchのクライアント定義\n",
    "client = OpenSearch(\n",
    "    hosts = OPENSEAECH_HOST,\n",
    "    http_auth = awsauth,\n",
    "    use_ssl = True,\n",
    "    verify_certs = True,\n",
    "    connection_class = RequestsHttpConnection,\n",
    "    engine = \"faiss\",\n",
    "    timeout = 300,\n",
    ")\n",
    "\n"
   ]
  },
  {
   "cell_type": "markdown",
   "id": "8e5b3aaa",
   "metadata": {},
   "source": [
    "## OpenSearch クライアントの初期化（LocalHost版）"
   ]
  },
  {
   "cell_type": "code",
   "execution_count": null,
   "id": "9929ef08",
   "metadata": {},
   "outputs": [],
   "source": [
    "# host = 'opensearch'\n",
    "# port = 9200\n",
    "# auth = (\"admin\", \"nfa8a4eNfJdsoaf%\")\n",
    "# client = OpenSearch(\n",
    "#     hosts = [{'host': host, 'port': port}],\n",
    "#     http_compress=True,\n",
    "#     http_auth=auth,\n",
    "#     use_ssl=True,\n",
    "#     verify_certs=False,\n",
    "# )"
   ]
  },
  {
   "cell_type": "markdown",
   "id": "94d450ab",
   "metadata": {},
   "source": [
    "## OpenSearch インデックスの作成"
   ]
  },
  {
   "cell_type": "code",
   "execution_count": null,
   "id": "c4f7baad",
   "metadata": {},
   "outputs": [],
   "source": [
    "if not client.indices.exists(index_name):\n",
    "    # OpenSearchのインデックス作成\n",
    "    client.indices.create(index_name,\n",
    "        body={\n",
    "            \"settings\":{\n",
    "                \"index.knn\": True\n",
    "            },\n",
    "            \"mappings\":{\n",
    "                \"properties\": {\n",
    "                    \"values\": {\n",
    "                        \"type\": \"knn_vector\",\n",
    "                        \"dimension\": dimensions\n",
    "                    },\n",
    "                    \"title\": {\n",
    "                        \"type\": \"text\"\n",
    "                    },\n",
    "                    \"imagePath\": {\n",
    "                        \"type\": \"text\"\n",
    "                    }\n",
    "                }\n",
    "            }\n",
    "        }\n",
    "    )\n",
    "\n"
   ]
  },
  {
   "cell_type": "markdown",
   "id": "3fa9b8c8",
   "metadata": {},
   "source": [
    "## 画像のベクトルをOpenSearch のドキュメントに登録"
   ]
  },
  {
   "cell_type": "code",
   "execution_count": null,
   "id": "54a44bcd-59b7-4b84-bd85-905ca6181d71",
   "metadata": {},
   "outputs": [],
   "source": [
    "\n",
    "df = pd.read_csv(currentDirectory+\"/img/shoes/data.csv\")\n",
    "\n",
    "for _, row in df.iterrows():\n",
    "    title = row[\"title\"]\n",
    "    image_path = row[\"img\"]\n",
    "\n",
    "    with open(image_path, \"rb\") as image_file:\n",
    "        input_image = base64.b64encode(image_file.read()).decode(\"utf8\")\n",
    "\n",
    "\n",
    "    body = json.dumps({\"inputText\": title, \"inputImage\": input_image})\n",
    "    \n",
    "    # Bedrockを呼び出しベクトル化\n",
    "    response = bedrock_runtime.invoke_model(\n",
    "        body=body,\n",
    "        modelId=\"amazon.titan-embed-image-v1\",\n",
    "        accept=\"application/json\",\n",
    "        contentType=\"application/json\",\n",
    "    )\n",
    "\n",
    "    response_body = json.loads(response.get(\"body\").read())\n",
    "\n",
    "    vector_body = response_body.get(\"embedding\")\n",
    "    \n",
    "    vectors = {\"values\": vector_body, \"title\": title, \"imagePath\": image_path}\n",
    "    \n",
    "    # OpneSearchにドキュメントを登録\n",
    "    response = client.index(index=index_name, body=vectors)\n",
    "sleep(5)"
   ]
  },
  {
   "cell_type": "markdown",
   "id": "bbbca604",
   "metadata": {},
   "source": [
    "## ドキュメント数が登録した画像と同じ数になるまで確認、待機。"
   ]
  },
  {
   "cell_type": "markdown",
   "id": "3cbe5e2e",
   "metadata": {},
   "source": [
    "## ベクトル検索のための関数を定義"
   ]
  },
  {
   "cell_type": "code",
   "execution_count": null,
   "id": "d233ba2d-4ca6-4c13-99aa-96c99229135d",
   "metadata": {},
   "outputs": [],
   "source": [
    "def vectorQuery(body):\n",
    "    # Bedrock呼び出しでベクトルを取得。\n",
    "    query_response = bedrock_runtime.invoke_model(\n",
    "        body=body,\n",
    "        modelId=\"amazon.titan-embed-image-v1\",\n",
    "        accept=\"application/json\",\n",
    "        contentType=\"application/json\",\n",
    "    )\n",
    "    response_body = json.loads(query_response.get(\"body\").read())\n",
    "    query_body = response_body.get(\"embedding\")\n",
    "    # print(query_body)\n",
    "    \n",
    "    \n",
    "    # OpenSearchにクエリを実施。\n",
    "    search_query = {\n",
    "        \"size\": 1,\n",
    "        \"query\": {\n",
    "            \"knn\": {\n",
    "                \"values\": {\n",
    "                    \"vector\": query_body,\n",
    "                    \"k\": 1\n",
    "                }\n",
    "            }\n",
    "        }\n",
    "    }\n",
    "    results = client.search(index=index_name, body=search_query)\n",
    "    \n",
    "    \n",
    "    # OpenSearchにクエリを実施。\n",
    "    for hit in results[\"hits\"][\"hits\"]:\n",
    "        display(Image(hit[\"_source\"][\"imagePath\"]), print(hit[\"_source\"][\"title\"]))\n",
    "    "
   ]
  },
  {
   "cell_type": "markdown",
   "id": "16610de9",
   "metadata": {},
   "source": [
    "## テキストでのセマンティック検索"
   ]
  },
  {
   "cell_type": "code",
   "execution_count": null,
   "id": "aeac23ce",
   "metadata": {},
   "outputs": [],
   "source": [
    "# クエリとなる文字列\n",
    "body = json.dumps(\n",
    "    {\"inputText\": \"フォーマルな場におすすめの靴は？\"}\n",
    ")\n",
    "vectorQuery(body)\n",
    "\n",
    "\n"
   ]
  },
  {
   "cell_type": "markdown",
   "id": "69aa2832",
   "metadata": {},
   "source": [
    "## 画像での検索"
   ]
  },
  {
   "cell_type": "code",
   "execution_count": null,
   "id": "8d575003",
   "metadata": {},
   "outputs": [],
   "source": [
    "# クエリとなる画像\n",
    "Image(currentDirectory+\"/img/shoes/query/white-sneakers.png\")"
   ]
  },
  {
   "cell_type": "code",
   "execution_count": null,
   "id": "73a154f7-d32b-42fe-b813-76dc7564dcfd",
   "metadata": {},
   "outputs": [],
   "source": [
    "\n",
    "# 靴の画像を読み込んで、inputImageをキーとしたシリアライズ\n",
    "with open(currentDirectory+\"/img/shoes/query/white-sneakers.png\", \"rb\") as image_file:\n",
    "  input_image = base64.b64encode(image_file.read()).decode(\"utf8\")\n",
    "body = json.dumps({\"inputImage\": input_image})\n",
    "vectorQuery(body)\n"
   ]
  },
  {
   "cell_type": "markdown",
   "id": "7eea4a48",
   "metadata": {},
   "source": [
    "## マルチモーダルセマンティック検索"
   ]
  },
  {
   "cell_type": "code",
   "execution_count": null,
   "id": "8abacef5",
   "metadata": {},
   "outputs": [],
   "source": [
    "# 靴の画像を読み込んで、inputImageをキーとしたシリアライズ\n",
    "with open(currentDirectory+\"/img/shoes/query/white-sneakers.png\", \"rb\") as image_file:\n",
    "  input_image = base64.b64encode(image_file.read()).decode(\"utf8\")\n",
    "body = json.dumps({\"inputImage\": input_image,\"inputText\": \"これの赤いやつ\"} )\n",
    "vectorQuery(body)\n"
   ]
  }
 ],
 "metadata": {
  "kernelspec": {
   "display_name": "Python 3 (ipykernel)",
   "language": "python",
   "name": "python3"
  },
  "language_info": {
   "codemirror_mode": {
    "name": "ipython",
    "version": 3
   },
   "file_extension": ".py",
   "mimetype": "text/x-python",
   "name": "python",
   "nbconvert_exporter": "python",
   "pygments_lexer": "ipython3",
   "version": "3.12.2"
  }
 },
 "nbformat": 4,
 "nbformat_minor": 5
}
