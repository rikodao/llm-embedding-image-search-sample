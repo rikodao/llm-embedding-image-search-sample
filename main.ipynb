{
 "cells": [
  {
   "cell_type": "markdown",
   "id": "ab584eba",
   "metadata": {},
   "source": [
    "## 環境準備"
   ]
  },
  {
   "cell_type": "code",
   "execution_count": null,
   "id": "2aee43d1-66c4-46e5-9181-6db61c8021b9",
   "metadata": {},
   "outputs": [],
   "source": [
    "!pip install -q boto3 pandas opensearch-py requests_aws4auth python-dotenv"
   ]
  },
  {
   "cell_type": "markdown",
   "id": "4c685d74",
   "metadata": {},
   "source": [
    ".envファイルにクレデンシャル情報を書き込む"
   ]
  },
  {
   "cell_type": "code",
   "execution_count": null,
   "id": "5b489102",
   "metadata": {},
   "outputs": [],
   "source": [
    "from dotenv import load_dotenv\n",
    "\n",
    "# .envファイルから環境変数を読み込む\n",
    "load_dotenv(override=True)\n",
    "\n"
   ]
  },
  {
   "cell_type": "markdown",
   "id": "83d72b61",
   "metadata": {},
   "source": [
    "## OpenSearch インデックスの作成"
   ]
  },
  {
   "cell_type": "code",
   "execution_count": null,
   "id": "648446e5-37bd-4d6c-9cb9-929a430656ff",
   "metadata": {},
   "outputs": [],
   "source": [
    "import boto3\n",
    "import json\n",
    "import base64\n",
    "import pandas as pd\n",
    "from opensearchpy import OpenSearch, RequestsHttpConnection\n",
    "from requests_aws4auth import AWS4Auth\n",
    "from IPython.display import Image, display\n",
    "import os\n",
    "\n",
    "AWS_ACCESS_KEY_ID=os.environ.get(\"AWS_ACCESS_KEY_ID\")\n",
    "AWS_SECRET_ACCESS_KEY=os.environ.get(\"AWS_SECRET_ACCESS_KEY\")\n",
    "\n",
    "# Bedrock\n",
    "bedrock_runtime = boto3.client(\n",
    "        service_name=\"bedrock-runtime\",\n",
    "        region_name=\"us-east-1\",\n",
    "        aws_access_key_id=AWS_ACCESS_KEY_ID,\n",
    "        aws_secret_access_key=AWS_SECRET_ACCESS_KEY\n",
    "    )\n",
    "\n",
    "# OpenSearch\n",
    "service = \"aoss\"  # must set the service as 'aoss'\n",
    "region = \"us-east-1\"\n",
    "dimensions = 1024\n",
    "index_name = \"test-index\"\n",
    "\n",
    "credentials = boto3.Session(\n",
    "    aws_access_key_id=AWS_ACCESS_KEY_ID,\n",
    "    aws_secret_access_key=AWS_SECRET_ACCESS_KEY).get_credentials()\n",
    "\n",
    "\n",
    "awsauth = AWS4Auth(\n",
    "    AWS_ACCESS_KEY_ID,\n",
    "    AWS_SECRET_ACCESS_KEY,\n",
    "    region,\n",
    "    service\n",
    ")\n",
    "\n",
    "# OpenSearchのクライアント定義\n",
    "client = OpenSearch(\n",
    "    hosts = \"https://kgveni0x6hgcq1h8lnjh.us-east-1.aoss.amazonaws.com\",\n",
    "    http_auth = awsauth,\n",
    "    use_ssl = True,\n",
    "    verify_certs = True,\n",
    "    connection_class = RequestsHttpConnection,\n",
    "    engine = \"faiss\",\n",
    "    timeout = 300,\n",
    ")\n",
    "\n",
    "if not client.indices.exists(index_name):\n",
    "    # OpenSearchのインデックス作成\n",
    "    client.indices.create(index_name,\n",
    "        body={\n",
    "            \"settings\":{\n",
    "                \"index.knn\": True\n",
    "            },\n",
    "            \"mappings\":{\n",
    "                \"properties\": {\n",
    "                    \"values\": {\n",
    "                        \"type\": \"knn_vector\",\n",
    "                        \"dimension\": dimensions\n",
    "                    },\n",
    "                    \"title\": {\n",
    "                        \"type\": \"text\"\n",
    "                    },\n",
    "                    \"imagePath\": {\n",
    "                        \"type\": \"text\"\n",
    "                    }\n",
    "                }\n",
    "            }\n",
    "        }\n",
    "    )\n",
    "\n"
   ]
  },
  {
   "cell_type": "markdown",
   "id": "3fa9b8c8",
   "metadata": {},
   "source": [
    "## 画像のベクトルをOpenSearch のドキュメントに登録"
   ]
  },
  {
   "cell_type": "code",
   "execution_count": null,
   "id": "54a44bcd-59b7-4b84-bd85-905ca6181d71",
   "metadata": {},
   "outputs": [],
   "source": [
    "\n",
    "df = pd.read_csv(\"./img/shoes/data.csv\")\n",
    "\n",
    "for _, row in df.iterrows():\n",
    "    title = row[\"title\"]\n",
    "    image_path = row[\"img\"]\n",
    "\n",
    "    with open(image_path, \"rb\") as image_file:\n",
    "        input_image = base64.b64encode(image_file.read()).decode(\"utf8\")\n",
    "\n",
    "\n",
    "    body = json.dumps({\"inputText\": title, \"inputImage\": input_image})\n",
    "    \n",
    "    # Bedrockを呼び出しベクトル化\n",
    "    response = bedrock_runtime.invoke_model(\n",
    "        body=body,\n",
    "        modelId=\"amazon.titan-embed-image-v1\",\n",
    "        accept=\"application/json\",\n",
    "        contentType=\"application/json\",\n",
    "    )\n",
    "\n",
    "    response_body = json.loads(response.get(\"body\").read())\n",
    "\n",
    "    vector_body = response_body.get(\"embedding\")\n",
    "    \n",
    "    vectors = {\"values\": vector_body, \"title\": title, \"imagePath\": image_path}\n",
    "    \n",
    "    # OpneSearchにドキュメントを登録\n",
    "    response = client.index(index=index_name, body=vectors)"
   ]
  },
  {
   "cell_type": "markdown",
   "id": "bbbca604",
   "metadata": {},
   "source": [
    "## ドキュメント数が登録した画像と同じ数になるまで確認、待機。"
   ]
  },
  {
   "cell_type": "markdown",
   "id": "3cbe5e2e",
   "metadata": {},
   "source": [
    "## ベクトル検索のための関数を定義"
   ]
  },
  {
   "cell_type": "code",
   "execution_count": null,
   "id": "d233ba2d-4ca6-4c13-99aa-96c99229135d",
   "metadata": {},
   "outputs": [],
   "source": [
    "def vectorQuery(body):\n",
    "    # Bedrock呼び出しでベクトルを取得。\n",
    "    query_response = bedrock_runtime.invoke_model(\n",
    "        body=body,\n",
    "        modelId=\"amazon.titan-embed-image-v1\",\n",
    "        accept=\"application/json\",\n",
    "        contentType=\"application/json\",\n",
    "    )\n",
    "    response_body = json.loads(query_response.get(\"body\").read())\n",
    "    query_body = response_body.get(\"embedding\")\n",
    "    # print(query_body)\n",
    "    \n",
    "    \n",
    "    # OpenSearchにクエリを実施。\n",
    "    search_query = {\n",
    "        \"size\": 1,\n",
    "        \"query\": {\n",
    "            \"knn\": {\n",
    "                \"values\": {\n",
    "                    \"vector\": query_body,\n",
    "                    \"k\": 1\n",
    "                }\n",
    "            }\n",
    "        }\n",
    "    }\n",
    "    results = client.search(index=index_name, body=search_query)\n",
    "    \n",
    "    \n",
    "    # OpenSearchにクエリを実施。\n",
    "    for hit in results[\"hits\"][\"hits\"]:\n",
    "        display(Image(hit[\"_source\"][\"imagePath\"]), print(hit[\"_source\"][\"title\"]))\n",
    "    "
   ]
  },
  {
   "cell_type": "markdown",
   "id": "16610de9",
   "metadata": {},
   "source": [
    "## テキストでのセマンティック検索"
   ]
  },
  {
   "cell_type": "code",
   "execution_count": null,
   "id": "aeac23ce",
   "metadata": {},
   "outputs": [],
   "source": [
    "# クエリとなる文字列\n",
    "body = json.dumps(\n",
    "    {\"inputText\": \"フォーマルな場におすすめの靴は？\"}\n",
    ")\n",
    "vectorQuery(body)\n",
    "\n",
    "\n"
   ]
  },
  {
   "cell_type": "markdown",
   "id": "69aa2832",
   "metadata": {},
   "source": [
    "## 画像での検索"
   ]
  },
  {
   "cell_type": "code",
   "execution_count": null,
   "id": "8d575003",
   "metadata": {},
   "outputs": [],
   "source": [
    "# クエリとなる画像\n",
    "Image(\"./img/shoes/query/white-sneakers.png\")"
   ]
  },
  {
   "cell_type": "code",
   "execution_count": null,
   "id": "73a154f7-d32b-42fe-b813-76dc7564dcfd",
   "metadata": {},
   "outputs": [],
   "source": [
    "# 靴の画像を読み込んで、inputImageをキーとしたシリアライズ\n",
    "with open(\"./img/shoes/query/white-sneakers.png\", \"rb\") as image_file:\n",
    "  input_image = base64.b64encode(image_file.read()).decode(\"utf8\")\n",
    "body = json.dumps({\"inputImage\": input_image})\n",
    "vectorQuery(body)\n"
   ]
  },
  {
   "cell_type": "markdown",
   "id": "7eea4a48",
   "metadata": {},
   "source": [
    "## マルチモーダルセマンティック検索"
   ]
  },
  {
   "cell_type": "code",
   "execution_count": null,
   "id": "8abacef5",
   "metadata": {},
   "outputs": [],
   "source": [
    "# 靴の画像を読み込んで、inputImageをキーとしたシリアライズ\n",
    "with open(\"./img/shoes/query/white-sneakers.png\", \"rb\") as image_file:\n",
    "  input_image = base64.b64encode(image_file.read()).decode(\"utf8\")\n",
    "body = json.dumps({\"inputImage\": input_image,\"inputText\": \"これの赤いやつ\"} )\n",
    "vectorQuery(body)\n"
   ]
  },
  {
   "cell_type": "code",
   "execution_count": null,
   "id": "614d9c21",
   "metadata": {},
   "outputs": [],
   "source": []
  }
 ],
 "metadata": {
  "kernelspec": {
   "display_name": "Python 3 (ipykernel)",
   "language": "python",
   "name": "python3"
  },
  "language_info": {
   "codemirror_mode": {
    "name": "ipython",
    "version": 3
   },
   "file_extension": ".py",
   "mimetype": "text/x-python",
   "name": "python",
   "nbconvert_exporter": "python",
   "pygments_lexer": "ipython3",
   "version": "3.11.6"
  }
 },
 "nbformat": 4,
 "nbformat_minor": 5
}
